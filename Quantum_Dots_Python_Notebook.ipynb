{
  "nbformat": 4,
  "nbformat_minor": 0,
  "metadata": {
    "colab": {
      "provenance": []
    },
    "kernelspec": {
      "name": "python3",
      "display_name": "Python 3"
    },
    "language_info": {
      "name": "python"
    }
  },
  "cells": [
    {
      "cell_type": "markdown",
      "source": [
        "# Quantum Dots Python Notebook\n",
        "The first part of this notebook will walk you through how to use Google Colab and some basics of coding.\n",
        "\n",
        "You are woking in a Jupyter Notebook that uses the Python coding language.\n",
        "There are two types of boxes. Text boxes (similar to this one) that are white and coding boxes (below) that are grey.\n",
        "\n",
        "You must 'run' the code in the code boxes to have the computer execute what it says. To run it, press the play button in the top left corner of the box.\n",
        "\n",
        "Run the code box below and then keep reading and working."
      ],
      "metadata": {
        "id": "s6fMekeeZ--N"
      }
    },
    {
      "cell_type": "code",
      "execution_count": 105,
      "metadata": {
        "id": "ZZ8Dz_X5Ex3I"
      },
      "outputs": [],
      "source": [
        "# A jupyter notebook will often begin with import statements to access certain applications used in the notebook\n",
        "\n",
        "import numpy as np              #library the expands python support for large and multidimensional arrays.\n",
        "import sympy as sp              #symbolic math library\n",
        "import matplotlib.pyplot as plt #plotting and graphing library\n",
        "from google.colab import files  #Google CoLab specific import library\n",
        "import pandas as pd             #pandas data anlysis library\n",
        "import io                       #Core python input/output library\n",
        "from scipy.stats import linregress       #Linear regression function from SciPy(contains linear regression function)\n",
        "from scipy.optimize import curve_fit     #Curve fitting function from SciPy(for least squares regression)\n",
        "from matplotlib import pyplot as plt\n",
        "sp.init_printing(use_latex=True) #Use sympy \"pretty printing\" throughout document where possible."
      ]
    },
    {
      "cell_type": "markdown",
      "source": [
        "The code cell you just ran imports functions that you will use through out the notebook.\n",
        "\n",
        "To put comments on your code  (parts that won't run, but are helpful for knowing what you are trying to do in each section) use '#'. Anything after the # is a comment and colored green.\n",
        "\n",
        "Below we explore some more functions of the notebook."
      ],
      "metadata": {
        "id": "_RTzLkGgI1sE"
      }
    },
    {
      "cell_type": "markdown",
      "source": [
        "# Introduction to Jupyter"
      ],
      "metadata": {
        "id": "tzvghaneJjfO"
      }
    },
    {
      "cell_type": "markdown",
      "source": [
        "To add additional boxes, hover your cursor between two boxes and click eithe \"+ code\" or \"+ text\".\n",
        "\n",
        "Each code cell must be run by clicking on the box and then pressing the play button that appears on the left side.\n",
        "\n",
        "Make a new text box below and add your name, date, and lab (am/pm) to the document.\n",
        "\n",
        "To finish typing in a box, press \"shift\" and \"enter\" simultaneously.\n",
        "\n",
        "Then run the first code cell below"
      ],
      "metadata": {
        "id": "Bpj-4nrWGiGY"
      }
    },
    {
      "cell_type": "markdown",
      "source": [
        "Some of this introduction material is adapted from Jonathan Gutow, Melissa Reeves, and Tricia Shepherd, which has been extended with additional examples from the POGIL-PCL Intro to Jupyter Notebooks Workshop team.\n"
      ],
      "metadata": {
        "id": "op_vM5k4JpGW"
      }
    },
    {
      "cell_type": "markdown",
      "source": [
        "## Calculator Properties"
      ],
      "metadata": {
        "id": "CPhw_eVqKFsV"
      }
    },
    {
      "cell_type": "markdown",
      "source": [
        "Run each of the following cells and observe what happens. Try to determine what the code is doing"
      ],
      "metadata": {
        "id": "jviBSlkfKTmR"
      }
    },
    {
      "cell_type": "code",
      "source": [
        "# Calculate arithmetic\n",
        "\n",
        "2+3"
      ],
      "metadata": {
        "colab": {
          "base_uri": "https://localhost:8080/",
          "height": 37
        },
        "id": "vk_nHVeEKFWn",
        "outputId": "f5d6866c-e4e1-4353-d13e-cd259d9f9561"
      },
      "execution_count": 106,
      "outputs": [
        {
          "output_type": "execute_result",
          "data": {
            "text/plain": [
              "5"
            ],
            "text/latex": "$\\displaystyle 5$"
          },
          "metadata": {},
          "execution_count": 106
        }
      ]
    },
    {
      "cell_type": "markdown",
      "source": [
        "Experiment with putting the following equations into a code cell. Does the code produce the answer you expect?\n",
        "\n",
        "2+3\n",
        "\n",
        "3*4+2\n",
        "\n",
        "3**4+2\n",
        "\n",
        "3(4+2)\n",
        "\n",
        "2*(9+2)\n",
        "\n",
        "3/2*5\n",
        "\n",
        "3/(2*5)"
      ],
      "metadata": {
        "id": "13TXKBUaKiEI"
      }
    },
    {
      "cell_type": "code",
      "source": [
        "#Test equations here\n",
        "3*4+2\n",
        "\n"
      ],
      "metadata": {
        "id": "6leIlfaPKrrb",
        "colab": {
          "base_uri": "https://localhost:8080/",
          "height": 37
        },
        "outputId": "c9b47566-b267-4620-e35e-757aa109224c"
      },
      "execution_count": 76,
      "outputs": [
        {
          "output_type": "execute_result",
          "data": {
            "text/plain": [
              "14"
            ],
            "text/latex": "$\\displaystyle 14$"
          },
          "metadata": {},
          "execution_count": 76
        }
      ]
    },
    {
      "cell_type": "markdown",
      "source": [
        "To check your understanding, lets try an ideal gas law problem. On a piece of paper, write the equation needed to determine the pressure in atm exerted by 1.15 moles of He in a cube 0.02 m on a side at 315 K. Use your calculator to determine the answer. Then add a code cell below to perform the same calculation.\n",
        "\n",
        "\n",
        "---\n",
        "\n",
        "\n",
        "With your team, compare each member's numerical answers. If they differ, compare the code blocks to see how and why they differ. Edit your code cell as needed so that all team members are confident they have the correct answer."
      ],
      "metadata": {
        "id": "O9wnBvlEKykv"
      }
    },
    {
      "cell_type": "code",
      "source": [
        "#Ideal Gas Law Calculation"
      ],
      "metadata": {
        "id": "ps9dtVQabm1Y"
      },
      "execution_count": 77,
      "outputs": []
    },
    {
      "cell_type": "markdown",
      "source": [
        "## Using Variables"
      ],
      "metadata": {
        "id": "gEVtrJ3MLMvr"
      }
    },
    {
      "cell_type": "code",
      "source": [
        "# Assign a variable a value\n",
        "  # A variable can be any combination of alphanumeric symbols that begins with a letter.\n",
        "\n",
        "Temp = 315   # Assign a variable for temperature (K).\n",
        "  # The variable is found to the left of the \"=\" and the assigned value is found to the right.\n",
        "  # Variable names can be any single letter or a group of letters and numbers that describe the variable.\n",
        "  # You should avoid using lowercase l and uppercase O for Single letter variables since those are easily confused with numbers 1 and 0.\n",
        "\n",
        "# Assign a variable using operations involving assigned variables.\n",
        "\n",
        "SquareTemp = Temp**2 # Notice that the \"raise to the power\" operator in python is \"**\", not \"^\".\n",
        "\n",
        "CubedTemp = Temp*SquareTemp\n",
        "\n",
        "# Display variables\n",
        "\n",
        "Temp, SquareTemp, CubedTemp"
      ],
      "metadata": {
        "colab": {
          "base_uri": "https://localhost:8080/",
          "height": 37
        },
        "id": "r6wbVotLIKGQ",
        "outputId": "e2910397-b699-4e1f-c008-65f28b850428"
      },
      "execution_count": 107,
      "outputs": [
        {
          "output_type": "execute_result",
          "data": {
            "text/plain": [
              "(315, 99225, 31255875)"
            ],
            "text/latex": "$\\displaystyle \\left( 315, \\  99225, \\  31255875\\right)$"
          },
          "metadata": {},
          "execution_count": 107
        }
      ]
    },
    {
      "cell_type": "markdown",
      "source": [
        "Add a code cell below and assign each number to a variable in order to calculate the pressure of 1.15 moles of helium gas in a cube 0.02 m on a side at 315 K. Display the value of the pressure variable. Check your result to confirm that it agrees with the result above that used numbers instead of variables."
      ],
      "metadata": {
        "id": "72zFBZ1jMlC3"
      }
    },
    {
      "cell_type": "code",
      "source": [
        "#Ideal Gas Law: Assign values to variables called Volume, Moles, Temp, and R. Calculate Pressure using these variables"
      ],
      "metadata": {
        "id": "y8ErFVnXMuZv"
      },
      "execution_count": 79,
      "outputs": []
    },
    {
      "cell_type": "markdown",
      "source": [
        "Why might it be preferable to use a variable instead of a number like a calculator? Discuss with your group."
      ],
      "metadata": {
        "id": "X-2NZj1vMzA_"
      }
    },
    {
      "cell_type": "markdown",
      "source": [
        "## Using Arrays"
      ],
      "metadata": {
        "id": "PW_aHqvWNV5g"
      }
    },
    {
      "cell_type": "markdown",
      "source": [
        "Review the following code cell and predict what the output will be. Discuss your prediction with your team members, then run the code cell. Was your prediction accurate? If not, create a text cell and describe what was different than you predicted."
      ],
      "metadata": {
        "id": "nW-lkaDRNYep"
      }
    },
    {
      "cell_type": "code",
      "source": [
        "# Assign an array\n",
        "\n",
        "TempAr = np.array([145,160,200,205])    # Assign an array of temperatures for a sample of argon gas.\n",
        "  # notice that we are using an array function from the numpy (np) library to create the array.\n",
        "  # You will see \"np.\" functions from numpy again later in this worksheet.\n",
        "\n",
        "distance = np.arange(0,10)    # Create an array filled with a series of 10 integers starting at 0.\n",
        "\n",
        "# Assign an array using operations involving arrays\n",
        "\n",
        "SquareTempAr = TempAr**2\n",
        "\n",
        "radii = distance*0.1\n",
        "\n",
        "# Display arrays\n",
        "\n",
        "print (TempAr, distance, SquareTempAr, radii)\n",
        "\n",
        "# we can also refer to specific items in array. The first item is index zero. You do this using the square brackets\n",
        "TempAr[2]"
      ],
      "metadata": {
        "colab": {
          "base_uri": "https://localhost:8080/"
        },
        "id": "UU2ghDGGNfNx",
        "outputId": "cf9668ba-5c0a-434d-a096-9190f9770537"
      },
      "execution_count": 108,
      "outputs": [
        {
          "output_type": "stream",
          "name": "stdout",
          "text": [
            "[145 160 200 205] [0 1 2 3 4 5 6 7 8 9] [21025 25600 40000 42025] [0.  0.1 0.2 0.3 0.4 0.5 0.6 0.7 0.8 0.9]\n"
          ]
        },
        {
          "output_type": "execute_result",
          "data": {
            "text/plain": [
              "np.int64(200)"
            ]
          },
          "metadata": {},
          "execution_count": 108
        }
      ]
    },
    {
      "cell_type": "markdown",
      "source": [
        "##Graphing"
      ],
      "metadata": {
        "id": "APkm39VtNojm"
      }
    },
    {
      "cell_type": "markdown",
      "source": [
        "A jupyter notebook can be used to visually present the relationship betweeen two quantities.\n",
        "\n",
        "Running the code cell below creates a plot showing the relationship between time and the mass of dry chick peas that are soaking up water"
      ],
      "metadata": {
        "id": "dSxuQUJ0N7yo"
      }
    },
    {
      "cell_type": "code",
      "source": [
        "# Assign arrays corresponding to x and different y's\n",
        "\n",
        "Time = np.array([0,2.5,5,7.5,10,20,30,60])\n",
        "\n",
        "Water = np.array([10.293,11.044,11.746,12.093,12.505,13.133,13.689,14.672])\n",
        "\n",
        "NaCl3M = np.array([9.611,10.174,10.387,10.672,10.903,11.433,11.745,13.415])\n",
        "\n",
        "# Plot data\n",
        "# Marker options here: https://matplotlib.org/stable/api/markers_api.html\n",
        "# Color options here: https://matplotlib.org/stable/gallery/color/named_colors.html\n",
        "# Examples of plot types here: https://matplotlib.org/stable/gallery/index.html\n",
        "\n",
        "plt.plot(Time,Water,marker=\"o\",linestyle='None')\n",
        "\n",
        "plt.plot(Time,NaCl3M,marker='x',color='r',linestyle='None')\n",
        "\n",
        "plt.xlabel(\"Time (min)\")\n",
        "\n",
        "plt.ylabel(\"Mass (g)\");\n",
        "\n",
        "plt.legend(['Water',  '3M NaCl'], loc='lower right')"
      ],
      "metadata": {
        "colab": {
          "base_uri": "https://localhost:8080/",
          "height": 466
        },
        "id": "-4H63RMuOBAR",
        "outputId": "89703065-976a-45d0-d5c2-964b08e5a692"
      },
      "execution_count": 109,
      "outputs": [
        {
          "output_type": "execute_result",
          "data": {
            "text/plain": [
              "<matplotlib.legend.Legend at 0x79fff9ab4250>"
            ]
          },
          "metadata": {},
          "execution_count": 109
        },
        {
          "output_type": "display_data",
          "data": {
            "text/plain": [
              "<Figure size 640x480 with 1 Axes>"
            ],
            "image/png": "[encoded data removed]"
          },
          "metadata": {}
        }
      ]
    },
    {
      "cell_type": "markdown",
      "source": [
        "Mess around with the code above. Try the following\n",
        "\n",
        "1) change the color of the markers\n",
        "\n",
        "2) change the location of the legend\n",
        "\n",
        "3) change the style of the marker."
      ],
      "metadata": {
        "id": "OQJ2m4j8PhX8"
      }
    },
    {
      "cell_type": "markdown",
      "source": [
        "# Plotting Your Quantum Dot Data"
      ],
      "metadata": {
        "id": "Nors2SsiQBMo"
      }
    },
    {
      "cell_type": "markdown",
      "source": [
        "First we need to input the data you found in the experiment. Make arrays for each of the following: Time (in seconds), radius (in meters), absorption wavelength (m). The start of this code is outlined in the next box. Use the information you learned above about arrays to input your data."
      ],
      "metadata": {
        "id": "47ZQlSbahLs6"
      }
    },
    {
      "cell_type": "code",
      "source": [
        "Time = np.array([PUT NUMBERS HERE!])\n",
        "Radius = np.array([PUT NUMBERS HERE!])\n",
        "Wavelength = np.array([PUT NUMBERS HERE!])"
      ],
      "metadata": {
        "id": "R_CR3RxThbLw"
      },
      "execution_count": 82,
      "outputs": []
    },
    {
      "cell_type": "markdown",
      "source": [
        "Next, to make sure we uploaded your data correctly, we want to plot it. This plot will give us a visual representation if we entered all the numbers correctly. Additionally, you can make nice plots to include in your lab report\n",
        "\n",
        "Plot both radius vs time, absorbance wavelength vs time, and emission wavelength vs time. Make sure to include axis labels on your plots and feel free to change colors/markers/etc to make it your own!\n",
        "\n",
        "An example of the first plot (not polished) is included for you to work from."
      ],
      "metadata": {
        "id": "P4ggapquiD7T"
      }
    },
    {
      "cell_type": "code",
      "source": [
        "#Radius vs Time Plot\n",
        "plt.plot ( Radius, Time, marker=\"o\",linestyle='None')\n",
        "plt.ylabel(\"Time (s)\")\n",
        "plt.xlabel(\"Radius (m)\");"
      ],
      "metadata": {
        "colab": {
          "base_uri": "https://localhost:8080/",
          "height": 449
        },
        "id": "JEZk-dFWiDVw",
        "outputId": "07cd59f3-e0ca-493e-cd95-6835056e06c3"
      },
      "execution_count": 83,
      "outputs": [
        {
          "output_type": "display_data",
          "data": {
            "text/plain": [
              "<Figure size 640x480 with 1 Axes>"
            ],
            "image/png": "[encoded data removed]"
          },
          "metadata": {}
        }
      ]
    },
    {
      "cell_type": "code",
      "source": [
        "#Absorbance Wavelength vs Time Plot\n"
      ],
      "metadata": {
        "id": "Cmwve4vJVvVy"
      },
      "execution_count": null,
      "outputs": []
    },
    {
      "cell_type": "code",
      "source": [
        "#Emission Wavelength vs Time plot"
      ],
      "metadata": {
        "id": "1Rko9kglVyle"
      },
      "execution_count": null,
      "outputs": []
    },
    {
      "cell_type": "markdown",
      "source": [
        "#Uploading Spectra To Plot"
      ],
      "metadata": {
        "id": "q_-Rn-KXNW3Y"
      }
    },
    {
      "cell_type": "markdown",
      "source": [
        "The file below allows you to upload files. This technique is important when you have a lot of data. You don't want to have to type in every absorbance point on the spectrum.\n",
        "\n",
        "You don't need to understand all the code in here. Choose the file with your raw spectra data and upload it. Before uploading, make sure the header names are labeled and there is only one row of headers. Then scroll all the way to the bottom of your data, and delete all the extra information that the spectrometer includes in the data report."
      ],
      "metadata": {
        "id": "HHiSW5RfNc7n"
      }
    },
    {
      "cell_type": "code",
      "source": [
        "# Interactive file import\n",
        "uploaded = files.upload()       #Provides an upload button and associated dialog for choosing a file from your computer's storage, then uploads the file.\n",
        "\n",
        "for fn in uploaded.keys():      #for loop to provide specifics about the uploaded file.\n",
        "  print('User uploaded file \"{name}\" with length {length} bytes'.format(\n",
        "      name=fn, length=len(uploaded[fn])))\n",
        "\n",
        "df = pd.read_csv(io.StringIO(uploaded[fn].decode('utf-8'))) #Create pandas dataframe from uploaded file data.\n",
        "df.head(5)"
      ],
      "metadata": {
        "colab": {
          "base_uri": "https://localhost:8080/",
          "height": 279
        },
        "id": "OLDXw2EWNWqY",
        "outputId": "3eaabb28-e2b4-410c-e9fe-0a6ec1bdc127"
      },
      "execution_count": 94,
      "outputs": [
        {
          "output_type": "display_data",
          "data": {
            "text/plain": [
              "<IPython.core.display.HTML object>"
            ],
            "text/html": [
              "\n",
              "     <input type=\"file\" id=\"files-2275fac8-c8e1-45ee-9bdb-7e9c80bfe69b\" name=\"files[]\" multiple disabled\n",
              "        style=\"border:none\" />\n",
              "     <output id=\"result-2275fac8-c8e1-45ee-9bdb-7e9c80bfe69b\">\n",
              "      Upload widget is only available when the cell has been executed in the\n",
              "      current browser session. Please rerun this cell to enable.\n",
              "      </output>\n",
              "      <script>// Copyright 2017 Google LLC\n",
              "//\n",
              "// Licensed under the Apache License, Version 2.0 (the \"License\");\n",
              "// you may not use this file except in compliance with the License.\n",
              "// You may obtain a copy of the License at\n",
              "//\n",
              "//      http://www.apache.org/licenses/LICENSE-2.0\n",
              "//\n",
              "// Unless required by applicable law or agreed to in writing, software\n",
              "// distributed under the License is distributed on an \"AS IS\" BASIS,\n",
              "// WITHOUT WARRANTIES OR CONDITIONS OF ANY KIND, either express or implied.\n",
              "// See the License for the specific language governing permissions and\n",
              "// limitations under the License.\n",
              "\n",
              "/**\n",
              " * @fileoverview Helpers for google.colab Python module.\n",
              " */\n",
              "(function(scope) {\n",
              "function span(text, styleAttributes = {}) {\n",
              "  const element = document.createElement('span');\n",
              "  element.textContent = text;\n",
              "  for (const key of Object.keys(styleAttributes)) {\n",
              "    element.style[key] = styleAttributes[key];\n",
              "  }\n",
              "  return element;\n",
              "}\n",
              "\n",
              "// Max number of bytes which will be uploaded at a time.\n",
              "const MAX_PAYLOAD_SIZE = 100 * 1024;\n",
              "\n",
              "function _uploadFiles(inputId, outputId) {\n",
              "  const steps = uploadFilesStep(inputId, outputId);\n",
              "  const outputElement = document.getElementById(outputId);\n",
              "  // Cache steps on the outputElement to make it available for the next call\n",
              "  // to uploadFilesContinue from Python.\n",
              "  outputElement.steps = steps;\n",
              "\n",
              "  return _uploadFilesContinue(outputId);\n",
              "}\n",
              "\n",
              "// This is roughly an async generator (not supported in the browser yet),\n",
              "// where there are multiple asynchronous steps and the Python side is going\n",
              "// to poll for completion of each step.\n",
              "// This uses a Promise to block the python side on completion of each step,\n",
              "// then passes the result of the previous step as the input to the next step.\n",
              "function _uploadFilesContinue(outputId) {\n",
              "  const outputElement = document.getElementById(outputId);\n",
              "  const steps = outputElement.steps;\n",
              "\n",
              "  const next = steps.next(outputElement.lastPromiseValue);\n",
              "  return Promise.resolve(next.value.promise).then((value) => {\n",
              "    // Cache the last promise value to make it available to the next\n",
              "    // step of the generator.\n",
              "    outputElement.lastPromiseValue = value;\n",
              "    return next.value.response;\n",
              "  });\n",
              "}\n",
              "\n",
              "/**\n",
              " * Generator function which is called between each async step of the upload\n",
              " * process.\n",
              " * @param {string} inputId Element ID of the input file picker element.\n",
              " * @param {string} outputId Element ID of the output display.\n",
              " * @return {!Iterable<!Object>} Iterable of next steps.\n",
              " */\n",
              "function* uploadFilesStep(inputId, outputId) {\n",
              "  const inputElement = document.getElementById(inputId);\n",
              "  inputElement.disabled = false;\n",
              "\n",
              "  const outputElement = document.getElementById(outputId);\n",
              "  outputElement.innerHTML = '';\n",
              "\n",
              "  const pickedPromise = new Promise((resolve) => {\n",
              "    inputElement.addEventListener('change', (e) => {\n",
              "      resolve(e.target.files);\n",
              "    });\n",
              "  });\n",
              "\n",
              "  const cancel = document.createElement('button');\n",
              "  inputElement.parentElement.appendChild(cancel);\n",
              "  cancel.textContent = 'Cancel upload';\n",
              "  const cancelPromise = new Promise((resolve) => {\n",
              "    cancel.onclick = () => {\n",
              "      resolve(null);\n",
              "    };\n",
              "  });\n",
              "\n",
              "  // Wait for the user to pick the files.\n",
              "  const files = yield {\n",
              "    promise: Promise.race([pickedPromise, cancelPromise]),\n",
              "    response: {\n",
              "      action: 'starting',\n",
              "    }\n",
              "  };\n",
              "\n",
              "  cancel.remove();\n",
              "\n",
              "  // Disable the input element since further picks are not allowed.\n",
              "  inputElement.disabled = true;\n",
              "\n",
              "  if (!files) {\n",
              "    return {\n",
              "      response: {\n",
              "        action: 'complete',\n",
              "      }\n",
              "    };\n",
              "  }\n",
              "\n",
              "  for (const file of files) {\n",
              "    const li = document.createElement('li');\n",
              "    li.append(span(file.name, {fontWeight: 'bold'}));\n",
              "    li.append(span(\n",
              "        `(${file.type || 'n/a'}) - ${file.size} bytes, ` +\n",
              "        `last modified: ${\n",
              "            file.lastModifiedDate ? file.lastModifiedDate.toLocaleDateString() :\n",
              "                                    'n/a'} - `));\n",
              "    const percent = span('0% done');\n",
              "    li.appendChild(percent);\n",
              "\n",
              "    outputElement.appendChild(li);\n",
              "\n",
              "    const fileDataPromise = new Promise((resolve) => {\n",
              "      const reader = new FileReader();\n",
              "      reader.onload = (e) => {\n",
              "        resolve(e.target.result);\n",
              "      };\n",
              "      reader.readAsArrayBuffer(file);\n",
              "    });\n",
              "    // Wait for the data to be ready.\n",
              "    let fileData = yield {\n",
              "      promise: fileDataPromise,\n",
              "      response: {\n",
              "        action: 'continue',\n",
              "      }\n",
              "    };\n",
              "\n",
              "    // Use a chunked sending to avoid message size limits. See b/62115660.\n",
              "    let position = 0;\n",
              "    do {\n",
              "      const length = Math.min(fileData.byteLength - position, MAX_PAYLOAD_SIZE);\n",
              "      const chunk = new Uint8Array(fileData, position, length);\n",
              "      position += length;\n",
              "\n",
              "      const base64 = btoa(String.fromCharCode.apply(null, chunk));\n",
              "      yield {\n",
              "        response: {\n",
              "          action: 'append',\n",
              "          file: file.name,\n",
              "          data: base64,\n",
              "        },\n",
              "      };\n",
              "\n",
              "      let percentDone = fileData.byteLength === 0 ?\n",
              "          100 :\n",
              "          Math.round((position / fileData.byteLength) * 100);\n",
              "      percent.textContent = `${percentDone}% done`;\n",
              "\n",
              "    } while (position < fileData.byteLength);\n",
              "  }\n",
              "\n",
              "  // All done.\n",
              "  yield {\n",
              "    response: {\n",
              "      action: 'complete',\n",
              "    }\n",
              "  };\n",
              "}\n",
              "\n",
              "scope.google = scope.google || {};\n",
              "scope.google.colab = scope.google.colab || {};\n",
              "scope.google.colab._files = {\n",
              "  _uploadFiles,\n",
              "  _uploadFilesContinue,\n",
              "};\n",
              "})(self);\n",
              "</script> "
            ]
          },
          "metadata": {}
        },
        {
          "output_type": "stream",
          "name": "stdout",
          "text": [
            "Saving 04102025_G4_AM_QuantumDots_UvVis_2.csv to 04102025_G4_AM_QuantumDots_UvVis_2 (7).csv\n",
            "User uploaded file \"04102025_G4_AM_QuantumDots_UvVis_2 (7).csv\" with length 29011 bytes\n"
          ]
        },
        {
          "output_type": "execute_result",
          "data": {
            "text/plain": [
              "   WL_15      A_15  WL2_15     A2_15  WL_30      A_30\n",
              "0    800  0.040299     800  0.031419    800  0.038180\n",
              "1    799  0.041120     799  0.032316    799  0.039255\n",
              "2    798  0.041556     798  0.032548    798  0.038682\n",
              "3    797  0.041410     797  0.032114    797  0.038683\n",
              "4    796  0.041301     796  0.032250    796  0.038950"
            ],
            "text/html": [
              "\n",
              "  <div id=\"df-f24c5027-a371-4b2e-a64a-737fe3e75c31\" class=\"colab-df-container\">\n",
              "    <div>\n",
              "<style scoped>\n",
              "    .dataframe tbody tr th:only-of-type {\n",
              "        vertical-align: middle;\n",
              "    }\n",
              "\n",
              "    .dataframe tbody tr th {\n",
              "        vertical-align: top;\n",
              "    }\n",
              "\n",
              "    .dataframe thead th {\n",
              "        text-align: right;\n",
              "    }\n",
              "</style>\n",
              "<table border=\"1\" class=\"dataframe\">\n",
              "  <thead>\n",
              "    <tr style=\"text-align: right;\">\n",
              "      <th></th>\n",
              "      <th>WL_15</th>\n",
              "      <th>A_15</th>\n",
              "      <th>WL2_15</th>\n",
              "      <th>A2_15</th>\n",
              "      <th>WL_30</th>\n",
              "      <th>A_30</th>\n",
              "    </tr>\n",
              "  </thead>\n",
              "  <tbody>\n",
              "    <tr>\n",
              "      <th>0</th>\n",
              "      <td>800</td>\n",
              "      <td>0.040299</td>\n",
              "      <td>800</td>\n",
              "      <td>0.031419</td>\n",
              "      <td>800</td>\n",
              "      <td>0.038180</td>\n",
              "    </tr>\n",
              "    <tr>\n",
              "      <th>1</th>\n",
              "      <td>799</td>\n",
              "      <td>0.041120</td>\n",
              "      <td>799</td>\n",
              "      <td>0.032316</td>\n",
              "      <td>799</td>\n",
              "      <td>0.039255</td>\n",
              "    </tr>\n",
              "    <tr>\n",
              "      <th>2</th>\n",
              "      <td>798</td>\n",
              "      <td>0.041556</td>\n",
              "      <td>798</td>\n",
              "      <td>0.032548</td>\n",
              "      <td>798</td>\n",
              "      <td>0.038682</td>\n",
              "    </tr>\n",
              "    <tr>\n",
              "      <th>3</th>\n",
              "      <td>797</td>\n",
              "      <td>0.041410</td>\n",
              "      <td>797</td>\n",
              "      <td>0.032114</td>\n",
              "      <td>797</td>\n",
              "      <td>0.038683</td>\n",
              "    </tr>\n",
              "    <tr>\n",
              "      <th>4</th>\n",
              "      <td>796</td>\n",
              "      <td>0.041301</td>\n",
              "      <td>796</td>\n",
              "      <td>0.032250</td>\n",
              "      <td>796</td>\n",
              "      <td>0.038950</td>\n",
              "    </tr>\n",
              "  </tbody>\n",
              "</table>\n",
              "</div>\n",
              "    <div class=\"colab-df-buttons\">\n",
              "\n",
              "  <div class=\"colab-df-container\">\n",
              "    <button class=\"colab-df-convert\" onclick=\"convertToInteractive('df-f24c5027-a371-4b2e-a64a-737fe3e75c31')\"\n",
              "            title=\"Convert this dataframe to an interactive table.\"\n",
              "            style=\"display:none;\">\n",
              "\n",
              "  <svg xmlns=\"http://www.w3.org/2000/svg\" height=\"24px\" viewBox=\"0 -960 960 960\">\n",
              "    <path d=\"M120-120v-720h720v720H120Zm60-500h600v-160H180v160Zm220 220h160v-160H400v160Zm0 220h160v-160H400v160ZM180-400h160v-160H180v160Zm440 0h160v-160H620v160ZM180-180h160v-160H180v160Zm440 0h160v-160H620v160Z\"/>\n",
              "  </svg>\n",
              "    </button>\n",
              "\n",
              "  <style>\n",
              "    .colab-df-container {\n",
              "      display:flex;\n",
              "      gap: 12px;\n",
              "    }\n",
              "\n",
              "    .colab-df-convert {\n",
              "      background-color: #E8F0FE;\n",
              "      border: none;\n",
              "      border-radius: 50%;\n",
              "      cursor: pointer;\n",
              "      display: none;\n",
              "      fill: #1967D2;\n",
              "      height: 32px;\n",
              "      padding: 0 0 0 0;\n",
              "      width: 32px;\n",
              "    }\n",
              "\n",
              "    .colab-df-convert:hover {\n",
              "      background-color: #E2EBFA;\n",
              "      box-shadow: 0px 1px 2px rgba(60, 64, 67, 0.3), 0px 1px 3px 1px rgba(60, 64, 67, 0.15);\n",
              "      fill: #174EA6;\n",
              "    }\n",
              "\n",
              "    .colab-df-buttons div {\n",
              "      margin-bottom: 4px;\n",
              "    }\n",
              "\n",
              "    [theme=dark] .colab-df-convert {\n",
              "      background-color: #3B4455;\n",
              "      fill: #D2E3FC;\n",
              "    }\n",
              "\n",
              "    [theme=dark] .colab-df-convert:hover {\n",
              "      background-color: #434B5C;\n",
              "      box-shadow: 0px 1px 3px 1px rgba(0, 0, 0, 0.15);\n",
              "      filter: drop-shadow(0px 1px 2px rgba(0, 0, 0, 0.3));\n",
              "      fill: #FFFFFF;\n",
              "    }\n",
              "  </style>\n",
              "\n",
              "    <script>\n",
              "      const buttonEl =\n",
              "        document.querySelector('#df-f24c5027-a371-4b2e-a64a-737fe3e75c31 button.colab-df-convert');\n",
              "      buttonEl.style.display =\n",
              "        google.colab.kernel.accessAllowed ? 'block' : 'none';\n",
              "\n",
              "      async function convertToInteractive(key) {\n",
              "        const element = document.querySelector('#df-f24c5027-a371-4b2e-a64a-737fe3e75c31');\n",
              "        const dataTable =\n",
              "          await google.colab.kernel.invokeFunction('convertToInteractive',\n",
              "                                                    [key], {});\n",
              "        if (!dataTable) return;\n",
              "\n",
              "        const docLinkHtml = 'Like what you see? Visit the ' +\n",
              "          '<a target=\"_blank\" href=https://colab.research.google.com/notebooks/data_table.ipynb>data table notebook</a>'\n",
              "          + ' to learn more about interactive tables.';\n",
              "        element.innerHTML = '';\n",
              "        dataTable['output_type'] = 'display_data';\n",
              "        await google.colab.output.renderOutput(dataTable, element);\n",
              "        const docLink = document.createElement('div');\n",
              "        docLink.innerHTML = docLinkHtml;\n",
              "        element.appendChild(docLink);\n",
              "      }\n",
              "    </script>\n",
              "  </div>\n",
              "\n",
              "\n",
              "<div id=\"df-d59376f6-7aab-4b47-b4d2-3fe74f1cdc49\">\n",
              "  <button class=\"colab-df-quickchart\" onclick=\"quickchart('df-d59376f6-7aab-4b47-b4d2-3fe74f1cdc49')\"\n",
              "            title=\"Suggest charts\"\n",
              "            style=\"display:none;\">\n",
              "\n",
              "<svg xmlns=\"http://www.w3.org/2000/svg\" height=\"24px\"viewBox=\"0 0 24 24\"\n",
              "     width=\"24px\">\n",
              "    <g>\n",
              "        <path d=\"M19 3H5c-1.1 0-2 .9-2 2v14c0 1.1.9 2 2 2h14c1.1 0 2-.9 2-2V5c0-1.1-.9-2-2-2zM9 17H7v-7h2v7zm4 0h-2V7h2v10zm4 0h-2v-4h2v4z\"/>\n",
              "    </g>\n",
              "</svg>\n",
              "  </button>\n",
              "\n",
              "<style>\n",
              "  .colab-df-quickchart {\n",
              "      --bg-color: #E8F0FE;\n",
              "      --fill-color: #1967D2;\n",
              "      --hover-bg-color: #E2EBFA;\n",
              "      --hover-fill-color: #174EA6;\n",
              "      --disabled-fill-color: #AAA;\n",
              "      --disabled-bg-color: #DDD;\n",
              "  }\n",
              "\n",
              "  [theme=dark] .colab-df-quickchart {\n",
              "      --bg-color: #3B4455;\n",
              "      --fill-color: #D2E3FC;\n",
              "      --hover-bg-color: #434B5C;\n",
              "      --hover-fill-color: #FFFFFF;\n",
              "      --disabled-bg-color: #3B4455;\n",
              "      --disabled-fill-color: #666;\n",
              "  }\n",
              "\n",
              "  .colab-df-quickchart {\n",
              "    background-color: var(--bg-color);\n",
              "    border: none;\n",
              "    border-radius: 50%;\n",
              "    cursor: pointer;\n",
              "    display: none;\n",
              "    fill: var(--fill-color);\n",
              "    height: 32px;\n",
              "    padding: 0;\n",
              "    width: 32px;\n",
              "  }\n",
              "\n",
              "  .colab-df-quickchart:hover {\n",
              "    background-color: var(--hover-bg-color);\n",
              "    box-shadow: 0 1px 2px rgba(60, 64, 67, 0.3), 0 1px 3px 1px rgba(60, 64, 67, 0.15);\n",
              "    fill: var(--button-hover-fill-color);\n",
              "  }\n",
              "\n",
              "  .colab-df-quickchart-complete:disabled,\n",
              "  .colab-df-quickchart-complete:disabled:hover {\n",
              "    background-color: var(--disabled-bg-color);\n",
              "    fill: var(--disabled-fill-color);\n",
              "    box-shadow: none;\n",
              "  }\n",
              "\n",
              "  .colab-df-spinner {\n",
              "    border: 2px solid var(--fill-color);\n",
              "    border-color: transparent;\n",
              "    border-bottom-color: var(--fill-color);\n",
              "    animation:\n",
              "      spin 1s steps(1) infinite;\n",
              "  }\n",
              "\n",
              "  @keyframes spin {\n",
              "    0% {\n",
              "      border-color: transparent;\n",
              "      border-bottom-color: var(--fill-color);\n",
              "      border-left-color: var(--fill-color);\n",
              "    }\n",
              "    20% {\n",
              "      border-color: transparent;\n",
              "      border-left-color: var(--fill-color);\n",
              "      border-top-color: var(--fill-color);\n",
              "    }\n",
              "    30% {\n",
              "      border-color: transparent;\n",
              "      border-left-color: var(--fill-color);\n",
              "      border-top-color: var(--fill-color);\n",
              "      border-right-color: var(--fill-color);\n",
              "    }\n",
              "    40% {\n",
              "      border-color: transparent;\n",
              "      border-right-color: var(--fill-color);\n",
              "      border-top-color: var(--fill-color);\n",
              "    }\n",
              "    60% {\n",
              "      border-color: transparent;\n",
              "      border-right-color: var(--fill-color);\n",
              "    }\n",
              "    80% {\n",
              "      border-color: transparent;\n",
              "      border-right-color: var(--fill-color);\n",
              "      border-bottom-color: var(--fill-color);\n",
              "    }\n",
              "    90% {\n",
              "      border-color: transparent;\n",
              "      border-bottom-color: var(--fill-color);\n",
              "    }\n",
              "  }\n",
              "</style>\n",
              "\n",
              "  <script>\n",
              "    async function quickchart(key) {\n",
              "      const quickchartButtonEl =\n",
              "        document.querySelector('#' + key + ' button');\n",
              "      quickchartButtonEl.disabled = true;  // To prevent multiple clicks.\n",
              "      quickchartButtonEl.classList.add('colab-df-spinner');\n",
              "      try {\n",
              "        const charts = await google.colab.kernel.invokeFunction(\n",
              "            'suggestCharts', [key], {});\n",
              "      } catch (error) {\n",
              "        console.error('Error during call to suggestCharts:', error);\n",
              "      }\n",
              "      quickchartButtonEl.classList.remove('colab-df-spinner');\n",
              "      quickchartButtonEl.classList.add('colab-df-quickchart-complete');\n",
              "    }\n",
              "    (() => {\n",
              "      let quickchartButtonEl =\n",
              "        document.querySelector('#df-d59376f6-7aab-4b47-b4d2-3fe74f1cdc49 button');\n",
              "      quickchartButtonEl.style.display =\n",
              "        google.colab.kernel.accessAllowed ? 'block' : 'none';\n",
              "    })();\n",
              "  </script>\n",
              "</div>\n",
              "\n",
              "    </div>\n",
              "  </div>\n"
            ],
            "application/vnd.google.colaboratory.intrinsic+json": {
              "type": "dataframe",
              "variable_name": "df",
              "summary": "{\n  \"name\": \"df\",\n  \"rows\": 601,\n  \"fields\": [\n    {\n      \"column\": \"WL_15\",\n      \"properties\": {\n        \"dtype\": \"number\",\n        \"std\": 173,\n        \"min\": 200,\n        \"max\": 800,\n        \"num_unique_values\": 601,\n        \"samples\": [\n          690,\n          381,\n          235\n        ],\n        \"semantic_type\": \"\",\n        \"description\": \"\"\n      }\n    },\n    {\n      \"column\": \"A_15\",\n      \"properties\": {\n        \"dtype\": \"number\",\n        \"std\": 1.1021065217135995,\n        \"min\": 0.040298861,\n        \"max\": 3.05145812,\n        \"num_unique_values\": 601,\n        \"samples\": [\n          0.042646252,\n          0.289419651,\n          3.006349802\n        ],\n        \"semantic_type\": \"\",\n        \"description\": \"\"\n      }\n    },\n    {\n      \"column\": \"WL2_15\",\n      \"properties\": {\n        \"dtype\": \"number\",\n        \"std\": 173,\n        \"min\": 200,\n        \"max\": 800,\n        \"num_unique_values\": 601,\n        \"samples\": [\n          690,\n          381,\n          235\n        ],\n        \"semantic_type\": \"\",\n        \"description\": \"\"\n      }\n    },\n    {\n      \"column\": \"A2_15\",\n      \"properties\": {\n        \"dtype\": \"number\",\n        \"std\": 2.4710331573473576,\n        \"min\": 0.031418636,\n        \"max\": 10.0,\n        \"num_unique_values\": 573,\n        \"samples\": [\n          1.877463937,\n          0.034670021,\n          0.035149526\n        ],\n        \"semantic_type\": \"\",\n        \"description\": \"\"\n      }\n    },\n    {\n      \"column\": \"WL_30\",\n      \"properties\": {\n        \"dtype\": \"number\",\n        \"std\": 173,\n        \"min\": 200,\n        \"max\": 800,\n        \"num_unique_values\": 601,\n        \"samples\": [\n          690,\n          381,\n          235\n        ],\n        \"semantic_type\": \"\",\n        \"description\": \"\"\n      }\n    },\n    {\n      \"column\": \"A_30\",\n      \"properties\": {\n        \"dtype\": \"number\",\n        \"std\": 1.12083255845801,\n        \"min\": 0.038179982,\n        \"max\": 3.053640842,\n        \"num_unique_values\": 601,\n        \"samples\": [\n          0.039981887,\n          0.615020633,\n          3.007359266\n        ],\n        \"semantic_type\": \"\",\n        \"description\": \"\"\n      }\n    }\n  ]\n}"
            }
          },
          "metadata": {},
          "execution_count": 94
        }
      ]
    },
    {
      "cell_type": "markdown",
      "source": [
        "The whole file was imported as one big array (Called 'df'). We want to break the columns up into individual arrays."
      ],
      "metadata": {
        "id": "ah2yGIuaN4Na"
      }
    },
    {
      "cell_type": "code",
      "source": [
        "x=df.iloc[:,0]   # place the first column data from the dataframe in an array named x.\n",
        "y=df.iloc[:,1]   # place the second column data from the dataframe in an array named y.\n"
      ],
      "metadata": {
        "id": "ELAxuOcmN3vW"
      },
      "execution_count": 102,
      "outputs": []
    },
    {
      "cell_type": "markdown",
      "source": [
        "Now we can plot our data."
      ],
      "metadata": {
        "id": "9rEEwBjjQpgj"
      }
    },
    {
      "cell_type": "code",
      "source": [
        "plt.plot (x,y)\n",
        "plt.xlim ([350,650]) #Limits x-axis to 350 nm to 650 nm since this is the range we are interested in."
      ],
      "metadata": {
        "colab": {
          "base_uri": "https://localhost:8080/",
          "height": 450
        },
        "id": "R1ZY4mcJQqzH",
        "outputId": "a14bc3ad-c442-4669-da0b-d96e5aa8a655"
      },
      "execution_count": 104,
      "outputs": [
        {
          "output_type": "execute_result",
          "data": {
            "text/plain": [
              "(350.0, 650.0)"
            ],
            "text/latex": "$\\displaystyle \\left( 350.0, \\  650.0\\right)$"
          },
          "metadata": {},
          "execution_count": 104
        },
        {
          "output_type": "display_data",
          "data": {
            "text/plain": [
              "<Figure size 640x480 with 1 Axes>"
            ],
            "image/png": "[encoded data removed]"
          },
          "metadata": {}
        }
      ]
    },
    {
      "cell_type": "markdown",
      "source": [
        "Now go back and an absorption spectra for each time point on to the same graph. Follow the pattern that we used for the first line we put on.\n",
        "\n",
        "Once all your data is on the plot, make sure to finalize the plot (labels, legend, colors your prefer, etc)\n",
        "\n",
        "Save your plots to use in your lab report"
      ],
      "metadata": {
        "id": "SkQJBp8STurX"
      }
    },
    {
      "cell_type": "code",
      "source": [],
      "metadata": {
        "id": "9Xr8jsNkTuDI"
      },
      "execution_count": null,
      "outputs": []
    }
  ]
}